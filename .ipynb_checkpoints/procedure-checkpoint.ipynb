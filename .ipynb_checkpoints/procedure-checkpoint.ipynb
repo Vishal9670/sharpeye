{
 "cells": [
  {
   "cell_type": "code",
   "execution_count": 89,
   "id": "2f0f2e3b-3f9c-4f5f-b900-823306813c1a",
   "metadata": {},
   "outputs": [],
   "source": [
    "import pyodbc\n",
    "import pandas as pd\n",
    "\n",
    "connection_string = (\n",
    "        'DRIVER={SQL Server};'\n",
    "        'SERVER=DESKTOP-MVGO5U1\\\\SQLEXPRESS;'\n",
    "        'DATABASE=vishaldb;'\n",
    "        'UID=vishal;'\n",
    "        'PWD=Vishal;' \n",
    "        \"Trusted_Connection=yes\" \n",
    "    ) \n",
    "conx=pyodbc.connect(connection_string)"
   ]
  },
  {
   "cell_type": "code",
   "execution_count": 90,
   "id": "91902ebd-92e8-48f4-9be2-4423b2161f4c",
   "metadata": {},
   "outputs": [
    {
     "name": "stdout",
     "output_type": "stream",
     "text": [
      "<class 'pandas.core.frame.DataFrame'>\n",
      "RangeIndex: 5 entries, 0 to 4\n",
      "Data columns (total 2 columns):\n",
      " #   Column  Non-Null Count  Dtype\n",
      "---  ------  --------------  -----\n",
      " 0   id      5 non-null      int64\n",
      " 1   sales   5 non-null      int64\n",
      "dtypes: int64(2)\n",
      "memory usage: 212.0 bytes\n"
     ]
    },
    {
     "name": "stderr",
     "output_type": "stream",
     "text": [
      "C:\\Users\\HP\\AppData\\Local\\Temp\\ipykernel_5360\\2061886225.py:2: UserWarning: pandas only supports SQLAlchemy connectable (engine/connection) or database string URI or sqlite3 DBAPI2 connection. Other DBAPI2 objects are not tested. Please consider using SQLAlchemy.\n",
      "  df_sales=pd.read_sql(sql_query,conx)\n"
     ]
    }
   ],
   "source": [
    "sql_query=\"EXEC usp_get_sales\"\n",
    "df_sales=pd.read_sql(sql_query,conx)\n",
    "df_sales.info()"
   ]
  },
  {
   "cell_type": "code",
   "execution_count": 93,
   "id": "9c223b27-8886-4a64-aa33-de2870c5a986",
   "metadata": {},
   "outputs": [
    {
     "name": "stdout",
     "output_type": "stream",
     "text": [
      "<class 'pandas.core.frame.DataFrame'>\n",
      "RangeIndex: 9 entries, 0 to 8\n",
      "Data columns (total 3 columns):\n",
      " #   Column  Non-Null Count  Dtype \n",
      "---  ------  --------------  ----- \n",
      " 0   eid     9 non-null      int64 \n",
      " 1   name    9 non-null      object\n",
      " 2   number  9 non-null      int64 \n",
      "dtypes: int64(2), object(1)\n",
      "memory usage: 348.0+ bytes\n"
     ]
    },
    {
     "name": "stderr",
     "output_type": "stream",
     "text": [
      "C:\\Users\\HP\\AppData\\Local\\Temp\\ipykernel_5360\\1517126522.py:2: UserWarning: pandas only supports SQLAlchemy connectable (engine/connection) or database string URI or sqlite3 DBAPI2 connection. Other DBAPI2 objects are not tested. Please consider using SQLAlchemy.\n",
      "  df_employee=pd.read_sql(sql_query,conx)\n"
     ]
    }
   ],
   "source": [
    "sql_query=(\"EXEC usp_get_emp\")\n",
    "df_employee=pd.read_sql(sql_query,conx)\n",
    "df_employee.info()\n",
    "               "
   ]
  },
  {
   "cell_type": "code",
   "execution_count": 92,
   "id": "ba20cc1b-ed09-4c4a-9e99-dfd6e878c390",
   "metadata": {},
   "outputs": [
    {
     "name": "stdout",
     "output_type": "stream",
     "text": [
      "<class 'pandas.core.frame.DataFrame'>\n",
      "RangeIndex: 5 entries, 0 to 4\n",
      "Data columns (total 3 columns):\n",
      " #   Column  Non-Null Count  Dtype \n",
      "---  ------  --------------  ----- \n",
      " 0   eid     5 non-null      int64 \n",
      " 1   salary  5 non-null      int64 \n",
      " 2   greade  5 non-null      object\n",
      "dtypes: int64(2), object(1)\n",
      "memory usage: 252.0+ bytes\n"
     ]
    },
    {
     "name": "stderr",
     "output_type": "stream",
     "text": [
      "C:\\Users\\HP\\AppData\\Local\\Temp\\ipykernel_5360\\71705387.py:2: UserWarning: pandas only supports SQLAlchemy connectable (engine/connection) or database string URI or sqlite3 DBAPI2 connection. Other DBAPI2 objects are not tested. Please consider using SQLAlchemy.\n",
      "  df=pd.read_sql(sql_query,conx)\n"
     ]
    }
   ],
   "source": [
    "sql_query=\"EXEC usp_get_performance\"\n",
    "df=pd.read_sql(sql_query,conx)\n",
    "df.info()"
   ]
  },
  {
   "cell_type": "code",
   "execution_count": 74,
   "id": "c94de069-e2ab-4e7b-bdec-701582aaf715",
   "metadata": {},
   "outputs": [
    {
     "name": "stdout",
     "output_type": "stream",
     "text": [
      "<class 'pandas.core.frame.DataFrame'>\n",
      "RangeIndex: 5 entries, 0 to 4\n",
      "Data columns (total 3 columns):\n",
      " #   Column  Non-Null Count  Dtype \n",
      "---  ------  --------------  ----- \n",
      " 0   eid     5 non-null      int64 \n",
      " 1   salary  5 non-null      int64 \n",
      " 2   greade  5 non-null      object\n",
      "dtypes: int64(2), object(1)\n",
      "memory usage: 252.0+ bytes\n"
     ]
    },
    {
     "name": "stderr",
     "output_type": "stream",
     "text": [
      "C:\\Users\\HP\\AppData\\Local\\Temp\\ipykernel_5360\\1462137708.py:2: UserWarning: pandas only supports SQLAlchemy connectable (engine/connection) or database string URI or sqlite3 DBAPI2 connection. Other DBAPI2 objects are not tested. Please consider using SQLAlchemy.\n",
      "  df_performance=pd.read_sql(sql_query,conx)\n"
     ]
    }
   ],
   "source": [
    "sql_query=\"SELECT * FROM performance\"\n",
    "df_performance=pd.read_sql(sql_query,conx)\n",
    "df_performance.info()"
   ]
  },
  {
   "cell_type": "code",
   "execution_count": 75,
   "id": "501b39cb-ccd5-4d7c-b7a9-1d74b8457d9e",
   "metadata": {},
   "outputs": [],
   "source": [
    "import sqlalchemy as sal\n",
    "server ='DESKTOP-MVGO5U1\\\\SQLEXPRESS'\n",
    "mydatabase='vishaldb'\n",
    "myuserid='vishal'\n",
    "mypassword='Vishal'\n",
    "driver='SQL Server'\n",
    "\n",
    "\n"
   ]
  },
  {
   "cell_type": "code",
   "execution_count": 76,
   "id": "687b3905-8a45-434a-98cf-8875827974da",
   "metadata": {},
   "outputs": [],
   "source": [
    "import urllib\n",
    "params = urllib.parse.quote_plus(\"DRIVER={ODBC Driver 17 for SQL Server};\"\n",
    "                                 \"SERVER=DESKTOP-MVGO5U1\\\\SQLEXPRESS;\"\n",
    "                                 \"DATABASE=vishaldb;\"\n",
    "                                 \"UID=vishal;\"\n",
    "                                 \"PWD=Vishal;\"\n",
    "                                 \"Trusted_Connection=yes\")"
   ]
  },
  {
   "cell_type": "code",
   "execution_count": 77,
   "id": "2a362139-d9c0-4b10-bdcd-9bc5afabe7b6",
   "metadata": {},
   "outputs": [],
   "source": [
    "engine= sal.create_engine(\"mssql+pyodbc:///?odbc_connect={}\".format(params))\n"
   ]
  },
  {
   "cell_type": "code",
   "execution_count": 78,
   "id": "1546bc56-6ede-4e60-a216-781eccda979d",
   "metadata": {},
   "outputs": [],
   "source": [
    "conn=engine.connect()"
   ]
  },
  {
   "cell_type": "code",
   "execution_count": 79,
   "id": "e2e8991c-cbc8-4b1c-aa2c-2acab21f84d1",
   "metadata": {},
   "outputs": [
    {
     "name": "stdout",
     "output_type": "stream",
     "text": [
      "<class 'pandas.core.frame.DataFrame'>\n",
      "RangeIndex: 5 entries, 0 to 4\n",
      "Data columns (total 2 columns):\n",
      " #   Column  Non-Null Count  Dtype\n",
      "---  ------  --------------  -----\n",
      " 0   id      5 non-null      int64\n",
      " 1   sales   5 non-null      int64\n",
      "dtypes: int64(2)\n",
      "memory usage: 212.0 bytes\n",
      "<class 'pandas.core.frame.DataFrame'>\n",
      "RangeIndex: 9 entries, 0 to 8\n",
      "Data columns (total 4 columns):\n",
      " #   Column  Non-Null Count  Dtype \n",
      "---  ------  --------------  ----- \n",
      " 0   eid     9 non-null      int64 \n",
      " 1   name    9 non-null      object\n",
      " 2   number  9 non-null      int64 \n",
      " 3   depid   9 non-null      int64 \n",
      "dtypes: int64(3), object(1)\n",
      "memory usage: 420.0+ bytes\n",
      "<class 'pandas.core.frame.DataFrame'>\n",
      "RangeIndex: 5 entries, 0 to 4\n",
      "Data columns (total 3 columns):\n",
      " #   Column  Non-Null Count  Dtype \n",
      "---  ------  --------------  ----- \n",
      " 0   eid     5 non-null      int64 \n",
      " 1   salary  5 non-null      int64 \n",
      " 2   greade  5 non-null      object\n",
      "dtypes: int64(2), object(1)\n",
      "memory usage: 252.0+ bytes\n",
      "<class 'pandas.core.frame.DataFrame'>\n",
      "RangeIndex: 5 entries, 0 to 4\n",
      "Data columns (total 2 columns):\n",
      " #   Column  Non-Null Count  Dtype\n",
      "---  ------  --------------  -----\n",
      " 0   eid     5 non-null      int64\n",
      " 1   sales   5 non-null      int64\n",
      "dtypes: int64(2)\n",
      "memory usage: 212.0 bytes\n"
     ]
    }
   ],
   "source": [
    "df_sales.info()\n",
    "df_employee.info()\n",
    "df_performance.info()\n",
    "\n",
    "df_sales.rename(columns={'id':'eid'},inplace=True)\n",
    "df_sales.info()"
   ]
  },
  {
   "cell_type": "code",
   "execution_count": 85,
   "id": "8602fc3d-1fe4-42bb-b6e2-2cb08e8e5a30",
   "metadata": {},
   "outputs": [],
   "source": [
    "df_finall=pd.concat([df_sales,df_employee,df_performance],ignore_index=True)"
   ]
  },
  {
   "cell_type": "code",
   "execution_count": 86,
   "id": "09ac368c-b731-460e-b0b6-ebacc7fd0fec",
   "metadata": {},
   "outputs": [
    {
     "name": "stdout",
     "output_type": "stream",
     "text": [
      "<class 'pandas.core.frame.DataFrame'>\n",
      "RangeIndex: 19 entries, 0 to 18\n",
      "Data columns (total 7 columns):\n",
      " #   Column  Non-Null Count  Dtype  \n",
      "---  ------  --------------  -----  \n",
      " 0   eid     19 non-null     int64  \n",
      " 1   sales   5 non-null      float64\n",
      " 2   name    9 non-null      object \n",
      " 3   number  9 non-null      float64\n",
      " 4   depid   9 non-null      float64\n",
      " 5   salary  5 non-null      float64\n",
      " 6   greade  5 non-null      object \n",
      "dtypes: float64(4), int64(1), object(2)\n",
      "memory usage: 1.2+ KB\n"
     ]
    }
   ],
   "source": [
    "df_finall.info()"
   ]
  },
  {
   "cell_type": "code",
   "execution_count": 88,
   "id": "23376dcf-03db-4bc8-9cc2-86c7476fdfd8",
   "metadata": {},
   "outputs": [
    {
     "data": {
      "text/plain": [
       "19"
      ]
     },
     "execution_count": 88,
     "metadata": {},
     "output_type": "execute_result"
    }
   ],
   "source": [
    "df_finall.to_sql('stage_incentive',con=engine,index=False , if_exists='replace')\n"
   ]
  },
  {
   "cell_type": "code",
   "execution_count": null,
   "id": "ea30e308-ee65-41a9-b7fa-fa8aa1c3e354",
   "metadata": {},
   "outputs": [],
   "source": []
  },
  {
   "cell_type": "code",
   "execution_count": null,
   "id": "de0923a7-9eab-4983-9779-36ff51187f75",
   "metadata": {},
   "outputs": [],
   "source": []
  },
  {
   "cell_type": "code",
   "execution_count": null,
   "id": "bfeaaabb-0add-4798-88df-27ee144bcaff",
   "metadata": {},
   "outputs": [],
   "source": []
  }
 ],
 "metadata": {
  "kernelspec": {
   "display_name": "Python 3 (ipykernel)",
   "language": "python",
   "name": "python3"
  },
  "language_info": {
   "codemirror_mode": {
    "name": "ipython",
    "version": 3
   },
   "file_extension": ".py",
   "mimetype": "text/x-python",
   "name": "python",
   "nbconvert_exporter": "python",
   "pygments_lexer": "ipython3",
   "version": "3.12.3"
  }
 },
 "nbformat": 4,
 "nbformat_minor": 5
}
